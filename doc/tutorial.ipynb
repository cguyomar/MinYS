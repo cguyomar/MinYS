{
 "cells": [
  {
   "cell_type": "markdown",
   "metadata": {},
   "source": [
    "\n",
    "# Example of a MinYS run on a pea aphid sample\n",
    "\n",
    "We will run MinYS on one of the samples described in the paper with the same settings.\n",
    "\n",
    "Reference of the pre-print : \n",
    "\n",
    " MinYS: Mine Your Symbiont by targeted genome assembly in symbiotic communities.\n",
    "Cervin Guyomar, Wesley Delage, Fabrice Legeai, Christophe Mougel, Jean-Christophe Simon, Claire Lemaitre\n",
    "\n",
    "[Link](https://doi.org/10.1101/2019.12.13.875021)\n",
    "\n",
    "## Download data\n",
    "\n",
    "We will donwload :\n",
    " - One metagenomic pea aphid sample from SRA using SRA tools\n",
    "     This library is made of 84,627,212 Illumina paired end reads of length 100bp.\n",
    " - The reference genome of *Buchnera aphidicola* from *Myzus persicae* (medium divergence in the paper). The length of the reference genome is 643,517 bp.\n",
    " \n",
    "\n"
   ]
  },
  {
   "cell_type": "code",
   "execution_count": null,
   "metadata": {},
   "outputs": [],
   "source": [
    "# Donwload the metagenomic sample\n",
    "fastq-dump --split-files  SAMN02934112\n",
    "\n",
    "# Download the Buchnera aphidicola G002 reference genome\n",
    "wget https://ftp.ncbi.nlm.nih.gov/genomes/all/GCF/000/521/565/GCF_000521565.1_ASM52156v1/GCF_000521565.1_ASM52156v1_genomic.fna.gz\n",
    "gunzip GCF_000521565.1_ASM52156v1_genomic.fna.gz\n"
   ]
  },
  {
   "cell_type": "markdown",
   "metadata": {},
   "source": [
    "## Run MinYS\n",
    "\n",
    "### Basic run\n",
    "\n",
    "The parameter values used here are the ones used in the paper.\n",
    "\n",
    "**How to choose the parameter values ?**\n",
    "\n",
    "The main parameters are the kmer size and minimum abundance threshold for the two assembly steps : backbone assembly (`-assembly-kmer-size` and `-assembly-abundance-min`) and gap-filling (`-gapfilling-kmer-size` and `-gapfilling-abundance-min`). Their optimal values depend on the targeted genome coverage in the metagenomic sample. \n",
    "\n",
    "In theory, the greater the kmer size, the more linear will be the de bruijn graph and the better will be the assembly (repeats smaller than $k$ will be resolved). But $k$ must not be two large in order to occur in a sufficient number of reads and to be distinguished from sequencing errors. The minimum abundance threshold is used to discard kmers that have few occurences in the dataset (below this threshold) and that are likely to contain sequencing errors.\n",
    "\n",
    "For lowly covered genomes ($<$50x), the minimal value of $k$ is around 25-31 (we often use odd numbers), together with a minimal abundance threshold of 3.   \n",
    "\n",
    "Here, the Buchnera genome is expected to be present at 770 X in the sequencing sample. Therefore, we increased the k value to 51 and 61, with minimum abundance thresholds of 5 and 10. We used more stringent parameters for the backbone assembly, to ensure good quality and specific contigs. For the gap-filling, less stringent parameters are used to be able to recover potential strain-specific gap-fillings (with a lower abundance in the sample than the conserved regions).  \n"
   ]
  },
  {
   "cell_type": "code",
   "execution_count": null,
   "metadata": {
    "collapsed": true,
    "jupyter": {
     "outputs_hidden": true
    }
   },
   "outputs": [],
   "source": [
    "# Install and load MinYS conda environment\n",
    "conda create -c bioconda -p ~/conda/env_MinYS minys\n",
    "conda activate ~/conda/env_MinYS\n",
    "\n",
    "MinYS.py -1 SAMN02934112_1.fastq -2 SAMN02934112_2.fastq \\  # input data\n",
    "        -ref GCF_000521565.1_ASM52156v1_genomic.fna \\       # reference genome\n",
    "        -assembly-kmer-size 61 -assembly-abundance-min 10 -min-contig-size 400 \\  # assembly settings\n",
    "        -gapfilling-kmer-size 51 -gapfilling-abundance-min 5 -max-nodes 300 -max-length 50000 \\ #gapfilling settings\n",
    "        -nb-cores 8 \\\n",
    "        -out MinYS_example\n",
    "# Expected runtime 40 minutes with 8 cores"
   ]
  },
  {
   "cell_type": "markdown",
   "metadata": {},
   "source": [
    "### Inspecting the results\n",
    "\n",
    "One directory is created for the run, containing one sub-directory per step (`mapping`, `assembly` and `gapfilling`) and one sub-directory `logs` containing information on the run.  "
   ]
  },
  {
   "cell_type": "code",
   "execution_count": 16,
   "metadata": {},
   "outputs": [
    {
     "name": "stdout",
     "output_type": "stream",
     "text": [
      "\u001b[0m\u001b[38;5;27massembly\u001b[0m  \u001b[38;5;27mgapfilling\u001b[0m  \u001b[38;5;27mlogs\u001b[0m  \u001b[38;5;27mmapping\u001b[0m\n"
     ]
    }
   ],
   "source": [
    "ls MinYS_example/\n"
   ]
  },
  {
   "cell_type": "markdown",
   "metadata": {},
   "source": [
    "The **final output file** is located in the gapfilling subdirectory:\n",
    "`MinYS_example/gapfilling/*.simplified.gfa`\n",
    "\n",
    "#### Looking at the results of the assembly step\n",
    "\n",
    "Here 433 contigs were assembled for a total of 374kb. (the target size is 642kb)"
   ]
  },
  {
   "cell_type": "code",
   "execution_count": 22,
   "metadata": {},
   "outputs": [
    {
     "name": "stdout",
     "output_type": "stream",
     "text": [
      "433\n",
      "374165\n"
     ]
    }
   ],
   "source": [
    "grep \\> MinYS_example/assembly/minia_k61_abundancemin_10_filtered_400.fa | wc -l\n",
    "grep -v \">\" MinYS_example/assembly/minia_k61_abundancemin_10_filtered_400.fa | wc | awk '{print $3-$1}' "
   ]
  },
  {
   "cell_type": "markdown",
   "metadata": {},
   "source": [
    "###### Looking at the gapfilling results\n",
    "The output of MinYS is a genome graph in the GFA format, it can be visualized using [Bandage](https://github.com/rrwick/Bandage) for further analysis.\n",
    "Bandage allows to : \n",
    "- Visualize the graph\n",
    "- Blast nodes against known genomes\n",
    "- Edit the graph by removing or merging some nodes\n",
    "\n",
    "Two GFA graphs are available in the `gapfilling` directory : \n",
    "- `minia_k61_abundancemin_10_filtered_400_gapfilling_k51_abundancemin_5.gfa` is an intermediary file, it is the raw output of MindTheGap, where nodes are either contigs from the assembly step or gapfillings between two contigs.\n",
    "- `minia_k61_abundancemin_10_filtered_400_gapfilling_k51_abundancemin_5.simplified.gfa` is final output of MinYS pipeline. It is the simplified version of the graph, where redundant sequences have been removed.\n",
    "\n",
    "First, let's look at the raw graph, `minia_k61_abundancemin_10_filtered_400_gapfilling_k51_abundancemin_5.gfa`:\n",
    "    \n",
    "Contig nodes are named with a number. \n",
    "Gapfilling nodes are named with the following pattern : `114;476;len_2467_qual_50_median_cov_415` is a gapfilling between contigs `114` and `476` with a length of 2467 bp and median kmer abundance of 415.\n",
    "    "
   ]
  },
  {
   "cell_type": "code",
   "execution_count": null,
   "metadata": {
    "collapsed": true,
    "jupyter": {
     "outputs_hidden": true
    }
   },
   "outputs": [],
   "source": [
    "# Show the raw graph using Bandage (only a subset for readability)\n",
    "Bandage image MinYS_example/gapfilling/minia_k61_abundancemin_10_filtered_400_gapfilling_k51_abundancemin_5.gfa  img/graph.raw.png --scope aroundnodes --nodes 1 --distance 5"
   ]
  },
  {
   "cell_type": "markdown",
   "metadata": {},
   "source": [
    "<img src=\"img/graph.raw.png\">"
   ]
  },
  {
   "cell_type": "markdown",
   "metadata": {},
   "source": [
    "The image above represents a subset of the graph, showing the contig node of id 1 with its context at a maximal distance of 5 nodes."
   ]
  },
  {
   "cell_type": "markdown",
   "metadata": {},
   "source": [
    "Then, let's look at the final output genome graph in  `minia_k61_abundancemin_10_filtered_400_gapfilling_k51_abundancemin_5.simplified.gfa`:\n",
    "\n",
    "Here, there is only one circular contig after simplification"
   ]
  },
  {
   "cell_type": "code",
   "execution_count": 30,
   "metadata": {
    "collapsed": true,
    "jupyter": {
     "outputs_hidden": true
    }
   },
   "outputs": [],
   "source": [
    "Bandage image MinYS_example/gapfilling/minia_k61_abundancemin_10_filtered_400_gapfilling_k51_abundancemin_5.simplified.gfa  img/graph.simplified.png"
   ]
  },
  {
   "cell_type": "markdown",
   "metadata": {},
   "source": [
    "<img src=\"img/graph.simplified.png\" style=\"height:400px\">"
   ]
  },
  {
   "cell_type": "markdown",
   "metadata": {},
   "source": [
    "## Utility scripts\n",
    "\n",
    "Alternatively or in addition to the Bandage visualization, some scripts are available to process the graph : \n",
    " - `gfa2fasta.py` can be used to write the nodes of the graph in a fasta file for further processing. All edges between nodes are lost. A minimal length threshold can be applied to filter out small nodes.\n",
    " Usage : "
   ]
  },
  {
   "cell_type": "code",
   "execution_count": null,
   "metadata": {
    "collapsed": true,
    "jupyter": {
     "outputs_hidden": true
    }
   },
   "outputs": [],
   "source": [
    "gfa2fasta.py MinYS_example/gapfilling/minia_k61_abundancemin_10_filtered_400_gapfilling_k51_abundancemin_5.simplified.gfa assembly.fa 0"
   ]
  },
  {
   "cell_type": "markdown",
   "metadata": {},
   "source": [
    "  - `filter_components.py` allows small connected components of the graph (whose total assembled size is smaller than a given threshold) to be removed (not relevant here since we have only one component)"
   ]
  },
  {
   "cell_type": "code",
   "execution_count": null,
   "metadata": {
    "collapsed": true,
    "jupyter": {
     "outputs_hidden": true
    }
   },
   "outputs": [],
   "source": [
    "filter_components.py MinYS_example/gapfilling/minia_k61_abundancemin_10_filtered_400_gapfilling_k51_abundancemin_5.simplified.gfa larger_components.gfa 100000"
   ]
  },
  {
   "cell_type": "markdown",
   "metadata": {},
   "source": [
    "  - `enumerate_paths` will enumerate and compare all the paths in each connected component of the graph, and output those that show significant length or sequence differences. (not relevant here since we have only one node/path).\n",
    "  The paths are written in the out directory supplied as parameter"
   ]
  },
  {
   "cell_type": "code",
   "execution_count": null,
   "metadata": {},
   "outputs": [],
   "source": [
    "enumerate_paths.py MinYS_example/gapfilling/minia_k61_abundancemin_10_filtered_400_gapfilling_k51_abundancemin_5.simplified.gfa outdir"
   ]
  },
  {
   "cell_type": "markdown",
   "metadata": {},
   "source": [
    "The output directory will contain one sub-diretory for each component, containing one fasta file per enumerated path plus a dedicated file for the longest enumerated path.\n",
    "```\n",
    "outdir\n",
    "├── comp_1\n",
    "    ├── path1.fa\n",
    "    ├── path2.fa\n",
    "    ├── path3.fa\n",
    "    └── largest.fa\n",
    "├── comp_2\n",
    "    ├── path1.fa\n",
    "    └── largest.fa\n",
    "└── comp_3\n",
    "    ├── path1.fa\n",
    "    ├── path2.fa\n",
    "    └── largest.fa\n",
    "```\n"
   ]
  }
 ],
 "metadata": {
  "kernelspec": {
   "display_name": "Bash",
   "language": "bash",
   "name": "bash"
  },
  "language_info": {
   "codemirror_mode": "shell",
   "file_extension": ".sh",
   "mimetype": "text/x-sh",
   "name": "bash"
  }
 },
 "nbformat": 4,
 "nbformat_minor": 4
}
